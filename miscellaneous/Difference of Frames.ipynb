{
 "cells": [
  {
   "cell_type": "code",
   "execution_count": 1,
   "id": "93f12ff6",
   "metadata": {},
   "outputs": [],
   "source": [
    "import cv2\n",
    "import numpy as np\n",
    "from matplotlib import pyplot as plt\n",
    "import os"
   ]
  },
  {
   "cell_type": "markdown",
   "id": "c844cd01",
   "metadata": {},
   "source": [
    "Loop over a directory, apply sum of differences algorithm, then save output image to a path"
   ]
  },
  {
   "cell_type": "code",
   "execution_count": 2,
   "id": "e432eb13",
   "metadata": {},
   "outputs": [
    {
     "name": "stdout",
     "output_type": "stream",
     "text": [
      "hundred.mp4\n",
      "mother.mp4\n",
      "ninetytwo.mp4\n",
      "relax.mp4\n"
     ]
    }
   ],
   "source": [
    "#Add video directory and target image path\n",
    "directory = ''\n",
    "path = ''\n",
    "# iterate over files in\n",
    "# that directory\n",
    "for filename in os.listdir(directory):\n",
    "    f = os.path.join(directory, filename)\n",
    "    # checking if it is a file\n",
    "    if os.path.isfile(f):\n",
    "        print(filename)\n",
    "        cap= cv2.VideoCapture(f)\n",
    "\n",
    "        totalframecount= int(cap.get(cv2.CAP_PROP_FRAME_COUNT))\n",
    "\n",
    "        frame_s = 0\n",
    "        frame_diff = 0\n",
    "        scale_percent = 50 # percent of original size\n",
    "        width = int(640 * scale_percent / 100)\n",
    "        height = int(480 * scale_percent / 100)\n",
    "        dim = (width, height)\n",
    "        for i in range(1, totalframecount):\n",
    "            cap.set(cv2.CAP_PROP_POS_FRAMES, i)\n",
    "            ret, frame = cap.read()\n",
    "            if ret:\n",
    "                frame = cv2.cvtColor(frame, cv2.COLOR_BGR2GRAY)\n",
    "                frame = cv2.resize(frame, dim)\n",
    "                if i > 1:\n",
    "                    frame_diff = frame - frame0\n",
    "                else:\n",
    "                    frame0 = frame\n",
    "                if i > 1:\n",
    "                    frame_diff = np.where((frame_diff > 220) | (frame_diff < 30), 0, 255 / (totalframecount - 1))\n",
    "                frame_s += frame_diff\n",
    "                frame0 = frame\n",
    "            else:\n",
    "                break\n",
    "        img_name = filename.split(\".\")[0]\n",
    "        cv2.imwrite(os.path.join(path,f'{img_name}.png'), frame_s) "
   ]
  }
 ],
 "metadata": {
  "kernelspec": {
   "display_name": "Python 3 (ipykernel)",
   "language": "python",
   "name": "python3"
  },
  "language_info": {
   "codemirror_mode": {
    "name": "ipython",
    "version": 3
   },
   "file_extension": ".py",
   "mimetype": "text/x-python",
   "name": "python",
   "nbconvert_exporter": "python",
   "pygments_lexer": "ipython3",
   "version": "3.10.11"
  }
 },
 "nbformat": 4,
 "nbformat_minor": 5
}
